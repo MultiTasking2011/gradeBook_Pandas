{
 "cells": [
  {
   "cell_type": "code",
   "execution_count": null,
   "metadata": {},
   "outputs": [],
   "source": [
    "import numpy as np\n",
    "\n",
    "x = np.linspace(0,10,100)\n",
    "y1 = np.sin(x)\n",
    "y2 = np.cos(x)\n",
    "\n",
    "# subplots\n",
    "fig, axs = plt.subplots(2,2, figsize=(10,8))\n",
    "\n",
    "axs[0, 0].plot(x, y1, 'r')\n",
    "axs[0, 0].set_title('Sine Wave')\n",
    "\n",
    "axs[0, 1].plot(x, y2, 'b')\n",
    "axs[0, 1].set_title('Cosine Wave')\n",
    "\n",
    "axs[1, 0].plot(x, y1 + y2, 'g')\n",
    "axs[1, 0].set_title('Sine + Cosine')\n",
    "\n",
    "axs[1, 1].plot(x, y1 - y2, 'm')\n",
    "axs[1, 1].set_title('Sine - Cosine')\n",
    "\n",
    "plt.tight_layout()\n",
    "plt.show()\n"
   ]
  },
  {
   "cell_type": "code",
   "execution_count": null,
   "metadata": {},
   "outputs": [],
   "source": [
    "import matplotlib.pyplot as plt\n",
    "\n",
    "df = pd.DataFrame({\n",
    "    'A': [1,1.5,3,4],\n",
    "    'B' : [10,30,15,40]\n",
    "})\n",
    "\n",
    "\n",
    "df.plot(kind='', x='A', y='B')\n",
    "plt.show()"
   ]
  }
 ],
 "metadata": {
  "language_info": {
   "name": "python"
  }
 },
 "nbformat": 4,
 "nbformat_minor": 2
}
