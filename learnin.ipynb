{
 "cells": [
  {
   "cell_type": "code",
   "execution_count": null,
   "metadata": {},
   "outputs": [],
   "source": [
    "import numpy as np\n",
    "\n",
    "x = np.linspace(0,10,100)\n",
    "y1 = np.sin(x)\n",
    "y2 = np.cos(x)\n",
    "\n",
    "# subplots\n",
    "fig, axs = plt.subplots(2,2, figsize=(10,8))\n",
    "\n",
    "axs[0, 0].plot(x, y1, 'r')\n",
    "axs[0, 0].set_title('Sine Wave')\n",
    "\n",
    "axs[0, 1].plot(x, y2, 'b')\n",
    "axs[0, 1].set_title('Cosine Wave')\n",
    "\n",
    "axs[1, 0].plot(x, y1 + y2, 'g')\n",
    "axs[1, 0].set_title('Sine + Cosine')\n",
    "\n",
    "axs[1, 1].plot(x, y1 - y2, 'm')\n",
    "axs[1, 1].set_title('Sine - Cosine')\n",
    "\n",
    "plt.tight_layout()\n",
    "plt.show()\n"
   ]
  },
  {
   "cell_type": "code",
   "execution_count": null,
   "metadata": {},
   "outputs": [],
   "source": [
    "df = pd.DataFrame({\n",
    "    'A': [1,2,3,4],\n",
    "    'B' : [10,20,30,40],\n",
    "    'C': [100, 200, 300, 400]\n",
    "})\n",
    "\n",
    "def sq(x):\n",
    "    return x**2\n",
    "\n",
    "\n",
    "x = df.apply(sq)\n",
    "x\n"
   ]
  },
  {
   "cell_type": "code",
   "execution_count": null,
   "metadata": {},
   "outputs": [],
   "source": [
    "import matplotlib.pyplot as plt\n",
    "\n",
    "df = pd.DataFrame({\n",
    "    'A': [1,1.5,3,4],\n",
    "    'B' : [10,30,15,40]\n",
    "})\n",
    "\n",
    "\n",
    "df.plot(kind='', x='A', y='B')\n",
    "plt.show()"
   ]
  },
  {
   "cell_type": "code",
   "execution_count": null,
   "metadata": {},
   "outputs": [],
   "source": [
    "df = pd.DataFrame({\n",
    "    'Category': ['A','A', 'B', 'B'],\n",
    "    'Type': ['X', 'Y', 'X', 'Y'],\n",
    "    'Value': [10,20,30,40]\n",
    "})\n",
    "\n",
    "pt = df.pivot_table(values='Value', index='Category', columns='Type')\n",
    "\n",
    "pt\n"
   ]
  },
  {
   "cell_type": "code",
   "execution_count": null,
   "metadata": {},
   "outputs": [],
   "source": [
    "# Using .loc and .iloc\n",
    "df = pd.DataFrame({\n",
    "    'A': [1,2,3,4],\n",
    "    'B' : [10,20,30,40],\n",
    "    'C': [100, 200, 300, 400]\n",
    "})\n",
    "\n",
    "# Using .loc for label-based search\n",
    "a = df.loc[0:2, ['A','C']]\n",
    "\n",
    "# position based search\n",
    "b = df.iloc[0:2, 0:2]\n",
    "\n",
    "b\n",
    "\n"
   ]
  },
  {
   "cell_type": "code",
   "execution_count": null,
   "metadata": {},
   "outputs": [],
   "source": [
    "# Adding columns bassed on some conditions\n",
    "\n",
    "s1 = pd.Series([1,2,3], name='Comun1')\n",
    "s2 = pd.Series([4,5,6], name='Comun2')\n",
    "s3 = pd.Series([7,8,9], name='Comun3')\n",
    "\n",
    "df = pd.DataFrame({\n",
    "    'Column1': s1,\n",
    "    'Column2': s2,\n",
    "    'Column3': s3\n",
    "})\n",
    "\n",
    "df['status'] = df['Column1'].apply(lambda x: 'High' if x>2 else 'Low')\n",
    "\n",
    "df\n"
   ]
  },
  {
   "cell_type": "code",
   "execution_count": null,
   "metadata": {},
   "outputs": [],
   "source": [
    "# Making an df from multiple series\n",
    "\n",
    "s1 = pd.Series([1,2,3], index=['a','b','c'], name='Comun1')\n",
    "s2 = pd.Series([4,5,6], index=['a','b','c'], name='Comun2')\n",
    "s3 = pd.Series([7,8,9], index=['a','b','c'], name='Comun3')\n",
    "\n",
    "df = pd.DataFrame({\n",
    "    'Column1': s1,\n",
    "    'Column2': s2,\n",
    "    'Column3': s3,\n",
    "})\n",
    "\n",
    "# Reorder\n",
    "df1 = df[['Column3', 'Column1', 'Column2']]\n",
    "\n",
    "df2 = df.reindex(columns=['Column3', 'Column1', 'Column2'])\n",
    "\n",
    "df2"
   ]
  }
 ],
 "metadata": {
  "language_info": {
   "name": "python"
  }
 },
 "nbformat": 4,
 "nbformat_minor": 2
}
