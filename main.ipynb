{
 "cells": [
  {
   "cell_type": "code",
   "execution_count": 30,
   "metadata": {},
   "outputs": [],
   "source": [
    "import pandas as pd\n",
    "from pathlib import Path"
   ]
  },
  {
   "cell_type": "code",
   "execution_count": 33,
   "metadata": {},
   "outputs": [],
   "source": [
    "here = Path(\"__file__\").parent\n",
    "data_folder = here / \"data\"\n",
    "\n",
    "roster = pd.read_csv(\n",
    "    data_folder/\"roster.csv\",\n",
    "    converters = {\n",
    "                \"NetID\": str.lower, \n",
    "                \"Email Address\": str.lower\n",
    "                },\n",
    "    usecols = [\"Section\", \"Email Address\", \"NetID\"],\n",
    "    index_col = \"NetID\"\n",
    ")\n",
    "\n",
    "# dataFrames.\n",
    "hwcsv = pd.read_csv(\n",
    "    data_folder/\"hw_exam_grades.csv\",\n",
    "    converters = {\n",
    "                \"Email Address\": str.lower,\n",
    "                \"SID\": str.lower,\n",
    "                \"First Name\": str.lower,\n",
    "                \"Last Name\": str.lower\n",
    "    },\n",
    "    usecols= lambda x: \"Submission\" not in x,\n",
    "    index_col = \"SID\"\n",
    ")\n",
    "\n",
    "# [i for i in data_folder.glob(\"quiz_*_grades.csv\")]\n",
    "\n",
    "quiz_grades = pd.DataFrame()\n",
    "\n",
    "for file_path in data_folder.glob(\"quiz_*_grades.csv\"):\n",
    "    quiz_name = \" \".join(file_path.stem.title().split(\"_\")[:2])\n",
    "    # print(file_path)\n",
    "    quiz = pd.read_csv(\n",
    "        file_path,\n",
    "        converters = {\n",
    "            \"Email\": str.lower\n",
    "        },\n",
    "        usecols=[\"Email\", \"Grade\"],\n",
    "        index_col=\"Email\"\n",
    "    ).rename(columns={\"Grade\": quiz_name})\n",
    "    quiz_grades = pd.concat([quiz_grades, quiz], axis=1)\n",
    "\n"
   ]
  },
  {
   "cell_type": "code",
   "execution_count": 36,
   "metadata": {},
   "outputs": [
    {
     "data": {
      "text/plain": [
       "Quiz 1    11\n",
       "Quiz 2    15\n",
       "Quiz 3    17\n",
       "Quiz 4    14\n",
       "Quiz 5    12\n",
       "dtype: int64"
      ]
     },
     "execution_count": 36,
     "metadata": {},
     "output_type": "execute_result"
    }
   ],
   "source": [
    "finalData = pd.merge(\n",
    "    roster,\n",
    "    hwcsv,\n",
    "    left_index=True,\n",
    "    right_index=True\n",
    ")\n",
    "\n",
    "finalData = pd.merge(\n",
    "    finalData,\n",
    "    quiz_grades,\n",
    "    left_on = \"Email Address\",\n",
    "    right_index = True\n",
    "    \n",
    ")\n",
    "\n",
    "finalData = finalData.fillna(0)\n",
    "\n",
    "# Average Exam score\n",
    "\n",
    "for i in range(1,4):\n",
    "    finalData[f\"Exam {i} Score\"] = (finalData[f\"Exam {i}\"] / finalData[f\"Exam {i} - Max Points\"])\n",
    "    \n",
    "homework_score = finalData.filter(regex=r\"^Homework \\d\\d?$\", axis = 1)\n",
    "homework_max = finalData.filter(regex=r\"^Homework \\d\\d? -\", axis=1)\n",
    "\n",
    "sum_hw_scores = homework_score.sum(axis=1)\n",
    "sum_hw_maxpoints = homework_max.sum(axis=1)\n",
    "\n",
    "finalData[\"Total Homework\"] = sum_hw_scores / sum_hw_maxpoints\n",
    "\n",
    "hw_max_renamed = homework_max.set_axis(homework_score.columns, axis=1)\n",
    "\n",
    "avg_hw_score = ((homework_score / hw_max_renamed).round(2)).sum(axis=1)\n",
    "\n",
    "quizavg = finalData.filter(regex=r\"^Quiz \\d$\", axis=1)\n",
    "\n",
    "quiz_max_points = pd.Series(\n",
    "    {\"Quiz 1\": 11, \"Quiz 2\": 15, \"Quiz 3\": 17, \"Quiz 4\": 14, \"Quiz 5\": 12}\n",
    ")\n",
    "\n",
    "quiz_max_points"
   ]
  }
 ],
 "metadata": {
  "kernelspec": {
   "display_name": "Python 3",
   "language": "python",
   "name": "python3"
  },
  "language_info": {
   "codemirror_mode": {
    "name": "ipython",
    "version": 3
   },
   "file_extension": ".py",
   "mimetype": "text/x-python",
   "name": "python",
   "nbconvert_exporter": "python",
   "pygments_lexer": "ipython3",
   "version": "3.11.4"
  }
 },
 "nbformat": 4,
 "nbformat_minor": 2
}
